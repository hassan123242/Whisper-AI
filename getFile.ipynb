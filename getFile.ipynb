{
 "cells": [
  {
   "cell_type": "code",
   "execution_count": 1,
   "metadata": {},
   "outputs": [],
   "source": [
    "from gtts import gTTS\n",
    "\n",
    "# Text to be converted to speech\n",
    "text = \"\"\"\n",
    "What are the most effective strategies for staying ahead in the rapidly evolving field of software development, considering emerging technologies like AI, cloud computing, and cybersecurity, while also maintaining a strong foundation in core programming skills and best practices?\n",
    "\"\"\"\n",
    "\n",
    "# Language in which you want to convert\n",
    "language = 'en'\n",
    "\n",
    "# Passing the text and language to the engine\n",
    "tts = gTTS(text=text, lang=language, slow=False)\n",
    "\n",
    "# Saving the converted audio\n",
    "tts.save(\"test_audio.mp3\")"
   ]
  }
 ],
 "metadata": {
  "kernelspec": {
   "display_name": "Python 3",
   "language": "python",
   "name": "python3"
  },
  "language_info": {
   "codemirror_mode": {
    "name": "ipython",
    "version": 3
   },
   "file_extension": ".py",
   "mimetype": "text/x-python",
   "name": "python",
   "nbconvert_exporter": "python",
   "pygments_lexer": "ipython3",
   "version": "3.12.6"
  }
 },
 "nbformat": 4,
 "nbformat_minor": 2
}
